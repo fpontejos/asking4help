{
 "cells": [
  {
   "cell_type": "markdown",
   "metadata": {},
   "source": [
    "# Minimal Reproducible Example\n"
   ]
  },
  {
   "cell_type": "markdown",
   "metadata": {},
   "source": [
    "## Problem\n",
    "\n",
    "*Clear description of what you're trying to accomplish and the specific issue*\n",
    "\n",
    "Example: \n",
    "\n",
    "Problem Description:\n",
    "- I am trying to calculate the row-wise mean of the DataFrame.\n",
    "- I expected NaN handling to work differently.\n",
    "- However, the output is not as expected.\n",
    "- How can I correctly compute the row-wise mean while handling NaN values properly?\n"
   ]
  },
  {
   "cell_type": "markdown",
   "metadata": {},
   "source": [
    "## Environment Details\n",
    "\n",
    "*Details about the tools, libraries, and versions you're using, as well as your operating system*\n",
    "\n",
    "Example: \n",
    "\n",
    "> I'm using Python 3.8, scikit-learn 0.24, pandas 1.2.4, and Jupyter Notebook on macOS Big Sur."
   ]
  },
  {
   "cell_type": "markdown",
   "metadata": {},
   "source": [
    "## Package Imports"
   ]
  },
  {
   "cell_type": "code",
   "execution_count": 1,
   "metadata": {},
   "outputs": [],
   "source": [
    "import sys\n",
    "import numpy as np\n",
    "import pandas as pd\n",
    "from sklearn import __version__ as sklearn_version"
   ]
  },
  {
   "cell_type": "code",
   "execution_count": 2,
   "metadata": {},
   "outputs": [
    {
     "name": "stdout",
     "output_type": "stream",
     "text": [
      "Python version: 3.12.5 | packaged by conda-forge | (main, Aug  8 2024, 18:36:51) [GCC 12.4.0]\n",
      "NumPy version:  \t1.26.4\n",
      "Pandas version: \t2.2.2\n",
      "Scikit-learn version: \t1.5.1\n"
     ]
    }
   ],
   "source": [
    "# Print versions of key libraries for reproducibility\n",
    "\n",
    "print(f\"Python version: {sys.version}\")\n",
    "print(f\"NumPy version:  \\t{np.__version__}\")\n",
    "print(f\"Pandas version: \\t{pd.__version__}\")\n",
    "print(f\"Scikit-learn version: \\t{sklearn_version}\")\n",
    "\n",
    "# Add other libraries used\n"
   ]
  },
  {
   "cell_type": "markdown",
   "metadata": {},
   "source": [
    "Better yet, use `pip freeze`:\n",
    "\n",
    "```\n",
    "!pip list --not-required --format=freeze\n",
    "```\n",
    "\n",
    "Make sure you output to a file (and attach the file as well), or copy+paste the results to a Markdown cell.\n",
    "\n"
   ]
  },
  {
   "cell_type": "code",
   "execution_count": 3,
   "metadata": {},
   "outputs": [],
   "source": [
    "# !pip list --not-required --format=freeze > requirements.txt \n",
    "# Uncomment the above line to generate a file (requirements.txt) with the installed packages\n"
   ]
  },
  {
   "cell_type": "code",
   "execution_count": 4,
   "metadata": {},
   "outputs": [
    {
     "name": "stdout",
     "output_type": "stream",
     "text": [
      "appdirs==1.4.4\n",
      "backcall==0.2.0\n",
      "bcc==0.18.0\n",
      "beniget==0.4.1\n",
      "blinker==1.4\n",
      "Brlapi==0.8.3\n",
      "Brotli==1.0.9\n",
      "chardet==4.0.0\n",
      "chrome-gnome-shell==0.0.0\n",
      "click==8.0.3\n",
      "colorama==0.4.4\n",
      "command-not-found==0.3\n",
      "configobj==5.0.6\n",
      "cryptography==3.4.8\n",
      "cssselect==1.1.0\n",
      "cupshelpers==1.0\n",
      "cycler==0.11.0\n",
      "dbus-python==1.2.18\n",
      "decorator==4.4.2\n",
      "defer==1.0.6\n",
      "distro==1.7.0\n",
      "docker==5.0.3\n",
      "docker-compose==1.29.2\n",
      "dockerpty==0.4.1\n",
      "docopt==0.6.2\n",
      "entrypoints==0.4\n",
      "fqdn==1.5.1\n",
      "fs==2.4.12\n",
      "gast==0.5.2\n",
      "hidpidaemon==18.4.6\n",
      "importlib-metadata==4.6.4\n",
      "ipython==7.31.1\n",
      "ipython_genutils==0.2.0\n",
      "isoduration==20.11.0\n",
      "jedi==0.18.0\n",
      "jeepney==0.7.1\n",
      "jsonpointer==3.0.0\n",
      "jupyter==1.1.1\n",
      "jupyter-server-mathjax==0.2.3\n",
      "kernelstub==3.1.4\n",
      "kiwisolver==1.3.2\n",
      "language-selector==0.1\n",
      "launchpadlib==1.10.16\n",
      "lockfile==0.12.2\n",
      "louis==3.20.0\n",
      "lxml==4.8.0\n",
      "lz4==3.1.3+dfsg\n",
      "macaroonbakery==1.3.1\n",
      "matplotlib==3.5.1\n",
      "matplotlib-inline==0.1.3\n",
      "more-itertools==8.10.0\n",
      "mpmath==0.0.0\n",
      "msgpack==1.0.3\n",
      "nest-asyncio==1.5.4\n",
      "netaddr==0.8.0\n",
      "netifaces==0.11.0\n",
      "oauthlib==3.2.0\n",
      "olefile==0.46\n",
      "openpyxl==3.1.5\n",
      "parso==0.8.1\n",
      "pastel==0.2.1\n",
      "pickleshare==0.7.5\n",
      "Pillow==9.0.1\n",
      "pip==22.0.2\n",
      "plspm==0.5.7\n",
      "ply==3.11\n",
      "poetry==1.1.12\n",
      "pop-transition==1.1.2\n",
      "prompt-toolkit==3.0.28\n",
      "protobuf==3.12.4\n",
      "psutil==5.9.0\n",
      "ptyprocess==0.7.0\n",
      "py==1.10.0\n",
      "pycups==2.0.1\n",
      "pydbus==0.6.0\n",
      "PyGObject==3.42.1\n",
      "PyJWT==2.3.0\n",
      "pylev==1.2.0\n",
      "pymacaroons==0.13.0\n",
      "PyNaCl==1.5.0\n",
      "pyRFC3339==1.1\n",
      "pyrsistent==0.18.1\n",
      "python-apt==2.4.0+ubuntu4\n",
      "python-debian==0.1.43+ubuntu1.1\n",
      "python-dotenv==0.19.2\n",
      "python-gnupg==0.4.8\n",
      "pythran==0.10.0\n",
      "pytz==2022.1\n",
      "pyxdg==0.27\n",
      "repolib==2.2.1\n",
      "repoman==1.4.0\n",
      "rivalcfg==4.14.0\n",
      "scour==0.38.2\n",
      "SecretStorage==3.3.1\n",
      "sessioninstaller==0.0.0\n",
      "soupsieve==2.3.1\n",
      "sympy==1.9\n",
      "system76driver==24.4.3\n",
      "systemd-python==234\n",
      "terminator==2.1.1\n",
      "testpath==0.5.0\n",
      "texttable==1.6.4\n",
      "tzdata==2024.2\n",
      "ubuntu-drivers-common==0.0.0\n",
      "ubuntu-pro-client==8001\n",
      "ufoLib2==0.13.1\n",
      "ufw==0.36.1\n",
      "unicodedata2==14.0.0\n",
      "uri-template==1.3.0\n",
      "wadllib==1.3.6\n",
      "wcwidth==0.2.5\n",
      "webcolors==24.8.0\n",
      "wheel==0.37.1\n",
      "widgetsnbextension==2.0.0\n",
      "xdg==5\n",
      "xkeysnail==0.3.0\n",
      "xkit==0.0.0\n",
      "zipp==1.0.0\n"
     ]
    }
   ],
   "source": [
    "!pip list --not-required --format=freeze\n",
    "# Uncomment the above line to output the packages here. \n",
    "# Make sure you copy and paste the output into a Markdown cell! "
   ]
  },
  {
   "cell_type": "markdown",
   "metadata": {},
   "source": [
    "Example output of `pip freeze`:\n",
    "\n",
    "```\n",
    "appdirs==1.4.4\n",
    "backcall==0.2.0\n",
    "bcc==0.18.0\n",
    "beniget==0.4.1\n",
    "blinker==1.4\n",
    "Brlapi==0.8.3\n",
    "Brotli==1.0.9\n",
    "chardet==4.0.0\n",
    "```"
   ]
  },
  {
   "cell_type": "markdown",
   "metadata": {},
   "source": [
    "## Load Data"
   ]
  },
  {
   "cell_type": "code",
   "execution_count": 5,
   "metadata": {},
   "outputs": [],
   "source": [
    "data = {'A': [1, 2, np.nan, 4], 'B': [5, np.nan, 7, 8]}\n",
    "df = pd.DataFrame(data)"
   ]
  },
  {
   "cell_type": "markdown",
   "metadata": {},
   "source": [
    "## Preprocess Data\n",
    "\n",
    "*Minimal code, only including what is absolutely necessary to demonstrate the problem.*"
   ]
  },
  {
   "cell_type": "code",
   "execution_count": 6,
   "metadata": {},
   "outputs": [
    {
     "name": "stdout",
     "output_type": "stream",
     "text": [
      "Error: name 'resultx' is not defined\n"
     ]
    }
   ],
   "source": [
    "try:\n",
    "    result = df.mean(axis=1, skipna=False)  # Expecting row-wise mean, but unexpected NaN handling\n",
    "    print(resultx)\n",
    "except Exception as e:\n",
    "    print(\"Error:\", e)\n",
    "\n"
   ]
  },
  {
   "cell_type": "markdown",
   "metadata": {},
   "source": [
    "## Error Messages\n",
    "\n",
    "*Copy+Paste error messages here to make sure it is visible even with the notebook cells' outputs are cleared*\n",
    "\n",
    "Use code blocks for formatting."
   ]
  },
  {
   "cell_type": "markdown",
   "metadata": {},
   "source": [
    "```\n",
    "Error: name 'resultx' is not defined\n",
    "```"
   ]
  },
  {
   "cell_type": "code",
   "execution_count": null,
   "metadata": {},
   "outputs": [],
   "source": []
  },
  {
   "cell_type": "markdown",
   "metadata": {},
   "source": [
    "## Approaches Tested\n",
    "\n",
    "*Include and discuss any other approaches you have tested.*\n",
    "\n",
    "*Add links or references to sources you have consulted in trying to solve your issue.*"
   ]
  },
  {
   "cell_type": "code",
   "execution_count": null,
   "metadata": {},
   "outputs": [],
   "source": []
  },
  {
   "cell_type": "code",
   "execution_count": null,
   "metadata": {},
   "outputs": [],
   "source": []
  }
 ],
 "metadata": {
  "kernelspec": {
   "display_name": "DM2425",
   "language": "python",
   "name": "python3"
  },
  "language_info": {
   "codemirror_mode": {
    "name": "ipython",
    "version": 3
   },
   "file_extension": ".py",
   "mimetype": "text/x-python",
   "name": "python",
   "nbconvert_exporter": "python",
   "pygments_lexer": "ipython3",
   "version": "3.12.5"
  }
 },
 "nbformat": 4,
 "nbformat_minor": 2
}
